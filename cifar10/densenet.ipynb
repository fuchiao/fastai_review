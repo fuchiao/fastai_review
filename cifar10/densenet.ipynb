{
 "cells": [
  {
   "cell_type": "code",
   "execution_count": 1,
   "metadata": {},
   "outputs": [],
   "source": [
    "%matplotlib inline"
   ]
  },
  {
   "cell_type": "code",
   "execution_count": 11,
   "metadata": {},
   "outputs": [],
   "source": [
    "import os\n",
    "from keras.datasets.cifar10 import load_batch\n",
    "import numpy as np\n",
    "import matplotlib.pyplot as plt"
   ]
  },
  {
   "cell_type": "markdown",
   "metadata": {},
   "source": [
    "https://arxiv.org/abs/1608.06993"
   ]
  },
  {
   "cell_type": "code",
   "execution_count": 4,
   "metadata": {},
   "outputs": [],
   "source": [
    "def load_data():\n",
    "    path = 'cifar-10-batches-py'\n",
    "    num_train_samples = 50000\n",
    "    x_train = np.zeros((num_train_samples, 3, 32, 32), dtype='uint8')\n",
    "    y_train = np.zeros((num_train_samples,), dtype='uint8')\n",
    "    for i in range(1, 6):\n",
    "        data, labels = load_batch(os.path.join(path, 'data_batch_' + str(i)))\n",
    "        x_train[(i - 1) * 10000: i * 10000, :, :, :] = data\n",
    "        y_train[(i - 1) * 10000: i * 10000] = labels\n",
    "    x_test, y_test = load_batch(os.path.join(path, 'test_batch'))\n",
    "    y_train = np.reshape(y_train, (len(y_train), 1))\n",
    "    y_test = np.reshape(y_test, (len(y_test), 1))\n",
    "    x_train = x_train.transpose(0, 2, 3, 1)\n",
    "    x_test = x_test.transpose(0, 2, 3, 1)\n",
    "    return (x_train, y_train), (x_test, y_test)"
   ]
  },
  {
   "cell_type": "code",
   "execution_count": 9,
   "metadata": {},
   "outputs": [],
   "source": [
    "(x_train, y_train), (x_test, y_test) = load_data()"
   ]
  },
  {
   "cell_type": "code",
   "execution_count": 10,
   "metadata": {},
   "outputs": [
    {
     "data": {
      "text/plain": [
       "((50000, 32, 32, 3), (50000, 1), (10000, 32, 32, 3), (10000, 1))"
      ]
     },
     "execution_count": 10,
     "metadata": {},
     "output_type": "execute_result"
    }
   ],
   "source": [
    "x_train.shape, y_train.shape, x_test.shape, y_test.shape"
   ]
  },
  {
   "cell_type": "code",
   "execution_count": 12,
   "metadata": {},
   "outputs": [
    {
     "data": {
      "text/plain": [
       "<matplotlib.image.AxesImage at 0x7fefd09e8cf8>"
      ]
     },
     "execution_count": 12,
     "metadata": {},
     "output_type": "execute_result"
    },
    {
     "data": {
      "image/png": "[encoded data removed]",
      "text/plain": [
       "<matplotlib.figure.Figure at 0x7fefe6334320>"
      ]
     },
     "metadata": {},
     "output_type": "display_data"
    }
   ],
   "source": [
    "plt.imshow(x_train[1])"
   ]
  },
  {
   "cell_type": "code",
   "execution_count": 13,
   "metadata": {},
   "outputs": [],
   "source": [
    "x_train = x_train/255.\n",
    "x_test = x_test/255."
   ]
  },
  {
   "cell_type": "markdown",
   "metadata": {},
   "source": [
    "## DenseNet"
   ]
  },
  {
   "cell_type": "code",
   "execution_count": 46,
   "metadata": {},
   "outputs": [],
   "source": [
    "from keras.models import Model, Sequential\n",
    "from keras.layers import *\n",
    "from keras.optimizers import SGD\n",
    "from keras.regularizers import l2\n",
    "from keras import backend as K\n",
    "K.set_image_data_format('channels_last')"
   ]
  },
  {
   "cell_type": "code",
   "execution_count": 38,
   "metadata": {},
   "outputs": [],
   "source": [
    "def relu(x): return Activation('relu')(x)\n",
    "def dropout(x, p): return Dropout(p)(x) if p else x\n",
    "def bn(x): return BatchNormalization(axis=-1)(x)\n",
    "def relu_bn(x): return relu(bn(x))"
   ]
  },
  {
   "cell_type": "code",
   "execution_count": 36,
   "metadata": {},
   "outputs": [],
   "source": [
    "def conv(x, nf, sz, wd, p):\n",
    "    x = Conv2D(nf, (sz, sz), kernel_initializer='he_uniform', padding='same', \n",
    "                          kernel_regularizer=l2(wd))(x)\n",
    "    return dropout(x,p)"
   ]
  },
  {
   "cell_type": "code",
   "execution_count": 48,
   "metadata": {},
   "outputs": [],
   "source": [
    "def conv_block(x, nf, bottleneck=False, p=None, wd=0):\n",
    "    x = relu_bn(x)\n",
    "    if bottleneck: x = relu_bn(conv(x, nf * 4, 1, wd, p))\n",
    "    return conv(x, nf, 3, wd, p)"
   ]
  },
  {
   "cell_type": "code",
   "execution_count": 49,
   "metadata": {},
   "outputs": [],
   "source": [
    "def dense_block(x, nb_layers, growth_rate, bottleneck=False, p=None, wd=0):\n",
    "    if bottleneck: nb_layers //= 2\n",
    "    for i in range(nb_layers):\n",
    "        b = conv_block(x, growth_rate, bottleneck=bottleneck, p=p, wd=wd)\n",
    "        x = concatenate([x,b], axis=-1)\n",
    "    return x"
   ]
  },
  {
   "cell_type": "code",
   "execution_count": 33,
   "metadata": {},
   "outputs": [],
   "source": [
    "def transition_block(x, compression=1.0, p=None, wd=0):\n",
    "    nf = int(x.get_shape().as_list()[-1] * compression)\n",
    "    x = relu_bn(x)\n",
    "    x = conv(x, nf, 1, wd, p)\n",
    "    return AveragePooling2D((2, 2), strides=(2, 2))(x)"
   ]
  },
  {
   "cell_type": "code",
   "execution_count": 51,
   "metadata": {},
   "outputs": [],
   "source": [
    "def create_dense_net(nb_classes, img_input, depth=40, nb_block=3, \n",
    "     growth_rate=12, nb_filter=16, bottleneck=False, compression=1.0, p=None, wd=0, activation='softmax'):\n",
    "    \n",
    "    assert activation == 'softmax' or activation == 'sigmoid'\n",
    "    assert (depth - 4) % nb_block == 0\n",
    "    nb_layers_per_block = int((depth - 4) / nb_block)\n",
    "    nb_layers = [nb_layers_per_block] * nb_block\n",
    "\n",
    "    x = conv(img_input, nb_filter, 3, wd, 0)\n",
    "    for i,block in enumerate(nb_layers):\n",
    "        x = dense_block(x, block, growth_rate, bottleneck=bottleneck, p=p, wd=wd)\n",
    "        if i != len(nb_layers)-1:\n",
    "            x = transition_block(x, compression=compression, p=p, wd=wd)\n",
    "\n",
    "    x = relu_bn(x)\n",
    "    x = GlobalAveragePooling2D()(x)\n",
    "    return Dense(nb_classes, activation=activation, kernel_regularizer=l2(wd))(x)"
   ]
  },
  {
   "cell_type": "code",
   "execution_count": 57,
   "metadata": {},
   "outputs": [],
   "source": [
    "input_shape = (32,32,3)\n",
    "img_input = Input(shape=input_shape)\n",
    "x = create_dense_net(10, img_input, depth=100, nb_filter=16, compression=0.5, \n",
    "                     bottleneck=True, p=0.2, wd=1e-4)\n",
    "model = Model(img_input, x)\n",
    "model.compile(loss='sparse_categorical_crossentropy', \n",
    "      optimizer=SGD(0.1, 0.9, nesterov=True), metrics=[\"accuracy\"])"
   ]
  },
  {
   "cell_type": "code",
   "execution_count": 58,
   "metadata": {},
   "outputs": [
    {
     "name": "stdout",
     "output_type": "stream",
     "text": [
      "Train on 50000 samples, validate on 10000 samples\n",
      "Epoch 1/20\n",
      "50000/50000 [==============================] - 639s - loss: 1.9671 - acc: 0.4901 - val_loss: 2.5966 - val_acc: 0.4421\n",
      "Epoch 2/20\n",
      "50000/50000 [==============================] - 591s - loss: 1.4376 - acc: 0.6563 - val_loss: 3.5183 - val_acc: 0.3897\n",
      "Epoch 3/20\n",
      "50000/50000 [==============================] - 590s - loss: 1.2022 - acc: 0.7213 - val_loss: 3.6211 - val_acc: 0.3654\n",
      "Epoch 4/20\n",
      "50000/50000 [==============================] - 589s - loss: 1.0450 - acc: 0.7594 - val_loss: 1.7910 - val_acc: 0.5913\n",
      "Epoch 5/20\n",
      "50000/50000 [==============================] - 590s - loss: 0.9473 - acc: 0.7858 - val_loss: 1.5331 - val_acc: 0.6369\n",
      "Epoch 6/20\n",
      "50000/50000 [==============================] - 590s - loss: 0.8797 - acc: 0.8033 - val_loss: 2.2582 - val_acc: 0.5606\n",
      "Epoch 7/20\n",
      "50000/50000 [==============================] - 589s - loss: 0.8285 - acc: 0.8163 - val_loss: 1.3882 - val_acc: 0.6466\n",
      "Epoch 8/20\n",
      "50000/50000 [==============================] - 590s - loss: 0.7933 - acc: 0.8250 - val_loss: 1.4653 - val_acc: 0.6529\n",
      "Epoch 9/20\n",
      "50000/50000 [==============================] - 589s - loss: 0.7686 - acc: 0.8319 - val_loss: 1.4682 - val_acc: 0.6789\n",
      "Epoch 10/20\n",
      "50000/50000 [==============================] - 589s - loss: 0.7472 - acc: 0.8381 - val_loss: 1.2817 - val_acc: 0.7208\n",
      "Epoch 11/20\n",
      "50000/50000 [==============================] - 589s - loss: 0.7265 - acc: 0.8451 - val_loss: 0.9600 - val_acc: 0.7687\n",
      "Epoch 12/20\n",
      "50000/50000 [==============================] - 590s - loss: 0.7165 - acc: 0.8481 - val_loss: 1.3418 - val_acc: 0.6842\n",
      "Epoch 13/20\n",
      "50000/50000 [==============================] - 589s - loss: 0.7061 - acc: 0.8531 - val_loss: 1.1740 - val_acc: 0.7260\n",
      "Epoch 14/20\n",
      "50000/50000 [==============================] - 590s - loss: 0.6965 - acc: 0.8561 - val_loss: 1.0227 - val_acc: 0.7769\n",
      "Epoch 15/20\n",
      "50000/50000 [==============================] - 590s - loss: 0.6857 - acc: 0.8611 - val_loss: 0.9707 - val_acc: 0.7811\n",
      "Epoch 16/20\n",
      "50000/50000 [==============================] - 589s - loss: 0.6776 - acc: 0.8632 - val_loss: 1.0852 - val_acc: 0.7715\n",
      "Epoch 17/20\n",
      "50000/50000 [==============================] - 589s - loss: 0.6770 - acc: 0.8659 - val_loss: 0.9580 - val_acc: 0.7836\n",
      "Epoch 18/20\n",
      "50000/50000 [==============================] - 590s - loss: 0.6715 - acc: 0.8677 - val_loss: 4.9777 - val_acc: 0.3759\n",
      "Epoch 19/20\n",
      "50000/50000 [==============================] - 589s - loss: 0.6681 - acc: 0.8703 - val_loss: 1.0265 - val_acc: 0.7805\n",
      "Epoch 20/20\n",
      "50000/50000 [==============================] - 589s - loss: 0.6617 - acc: 0.8727 - val_loss: 1.2349 - val_acc: 0.7471\n"
     ]
    },
    {
     "data": {
      "text/plain": [
       "<keras.callbacks.History at 0x7fef037ceac8>"
      ]
     },
     "execution_count": 58,
     "metadata": {},
     "output_type": "execute_result"
    }
   ],
   "source": [
    "K.set_value(model.optimizer.lr, 0.1)\n",
    "model.fit(x_train, y_train, 64, 20, validation_data=(x_test, y_test), verbose=1)"
   ]
  },
  {
   "cell_type": "code",
   "execution_count": 59,
   "metadata": {},
   "outputs": [
    {
     "name": "stdout",
     "output_type": "stream",
     "text": [
      "Train on 50000 samples, validate on 10000 samples\n",
      "Epoch 1/20\n",
      "50000/50000 [==============================] - 589s - loss: 0.5530 - acc: 0.9130 - val_loss: 0.5933 - val_acc: 0.8984\n",
      "Epoch 2/20\n",
      "50000/50000 [==============================] - 589s - loss: 0.4878 - acc: 0.9318 - val_loss: 0.5744 - val_acc: 0.9032\n",
      "Epoch 3/20\n",
      "50000/50000 [==============================] - 589s - loss: 0.4617 - acc: 0.9369 - val_loss: 0.6105 - val_acc: 0.8967\n",
      "Epoch 4/20\n",
      "50000/50000 [==============================] - 590s - loss: 0.4412 - acc: 0.9411 - val_loss: 0.5741 - val_acc: 0.9050\n",
      "Epoch 5/20\n",
      "50000/50000 [==============================] - 589s - loss: 0.4263 - acc: 0.9441 - val_loss: 0.6098 - val_acc: 0.8946\n",
      "Epoch 6/20\n",
      "50000/50000 [==============================] - 589s - loss: 0.4111 - acc: 0.9471 - val_loss: 0.5881 - val_acc: 0.9005\n",
      "Epoch 7/20\n",
      "50000/50000 [==============================] - 589s - loss: 0.3957 - acc: 0.9498 - val_loss: 0.5400 - val_acc: 0.9091\n",
      "Epoch 8/20\n",
      "50000/50000 [==============================] - 588s - loss: 0.3831 - acc: 0.9516 - val_loss: 0.5781 - val_acc: 0.9012\n",
      "Epoch 9/20\n",
      "50000/50000 [==============================] - 589s - loss: 0.3704 - acc: 0.9548 - val_loss: 0.5634 - val_acc: 0.9070\n",
      "Epoch 10/20\n",
      "50000/50000 [==============================] - 589s - loss: 0.3619 - acc: 0.9560 - val_loss: 0.5679 - val_acc: 0.9025\n",
      "Epoch 11/20\n",
      "50000/50000 [==============================] - 588s - loss: 0.3502 - acc: 0.9581 - val_loss: 0.5621 - val_acc: 0.9027\n",
      "Epoch 12/20\n",
      "50000/50000 [==============================] - 588s - loss: 0.3424 - acc: 0.9588 - val_loss: 0.6111 - val_acc: 0.8961\n",
      "Epoch 13/20\n",
      "50000/50000 [==============================] - 589s - loss: 0.3323 - acc: 0.9610 - val_loss: 0.5355 - val_acc: 0.9058\n",
      "Epoch 14/20\n",
      "50000/50000 [==============================] - 588s - loss: 0.3225 - acc: 0.9619 - val_loss: 0.5600 - val_acc: 0.9046\n",
      "Epoch 15/20\n",
      "50000/50000 [==============================] - 588s - loss: 0.3162 - acc: 0.9629 - val_loss: 0.6008 - val_acc: 0.8951\n",
      "Epoch 16/20\n",
      "50000/50000 [==============================] - 589s - loss: 0.3107 - acc: 0.9630 - val_loss: 0.5800 - val_acc: 0.9007\n",
      "Epoch 17/20\n",
      "50000/50000 [==============================] - 588s - loss: 0.3015 - acc: 0.9658 - val_loss: 0.5801 - val_acc: 0.8958\n",
      "Epoch 18/20\n",
      "50000/50000 [==============================] - 589s - loss: 0.2979 - acc: 0.9649 - val_loss: 0.5775 - val_acc: 0.8996\n",
      "Epoch 19/20\n",
      "50000/50000 [==============================] - 590s - loss: 0.2916 - acc: 0.9660 - val_loss: 0.5786 - val_acc: 0.8961\n",
      "Epoch 20/20\n",
      "50000/50000 [==============================] - 590s - loss: 0.2891 - acc: 0.9644 - val_loss: 0.5920 - val_acc: 0.8975\n"
     ]
    },
    {
     "data": {
      "text/plain": [
       "<keras.callbacks.History at 0x7fef0365c630>"
      ]
     },
     "execution_count": 59,
     "metadata": {},
     "output_type": "execute_result"
    }
   ],
   "source": [
    "K.set_value(model.optimizer.lr, 0.01)\n",
    "model.fit(x_train, y_train, 64, 20, validation_data=(x_test, y_test), verbose=1)"
   ]
  },
  {
   "cell_type": "code",
   "execution_count": 60,
   "metadata": {},
   "outputs": [
    {
     "name": "stdout",
     "output_type": "stream",
     "text": [
      "Train on 50000 samples, validate on 10000 samples\n",
      "Epoch 1/20\n",
      "50000/50000 [==============================] - 589s - loss: 0.2635 - acc: 0.9750 - val_loss: 0.5370 - val_acc: 0.9101\n",
      "Epoch 2/20\n",
      "50000/50000 [==============================] - 590s - loss: 0.2550 - acc: 0.9788 - val_loss: 0.5278 - val_acc: 0.9107\n",
      "Epoch 3/20\n",
      "50000/50000 [==============================] - 590s - loss: 0.2498 - acc: 0.9795 - val_loss: 0.5221 - val_acc: 0.9111\n",
      "Epoch 4/20\n",
      "50000/50000 [==============================] - 589s - loss: 0.2469 - acc: 0.9808 - val_loss: 0.5218 - val_acc: 0.9125\n",
      "Epoch 5/20\n",
      "50000/50000 [==============================] - 590s - loss: 0.2444 - acc: 0.9811 - val_loss: 0.5249 - val_acc: 0.9106\n",
      "Epoch 6/20\n",
      "50000/50000 [==============================] - 590s - loss: 0.2425 - acc: 0.9816 - val_loss: 0.5215 - val_acc: 0.9120\n",
      "Epoch 7/20\n",
      "50000/50000 [==============================] - 590s - loss: 0.2417 - acc: 0.9822 - val_loss: 0.5160 - val_acc: 0.9142\n",
      "Epoch 8/20\n",
      "50000/50000 [==============================] - 590s - loss: 0.2406 - acc: 0.9828 - val_loss: 0.5205 - val_acc: 0.9127\n",
      "Epoch 9/20\n",
      "50000/50000 [==============================] - 589s - loss: 0.2384 - acc: 0.9830 - val_loss: 0.5259 - val_acc: 0.9134\n",
      "Epoch 10/20\n",
      "50000/50000 [==============================] - 590s - loss: 0.2369 - acc: 0.9830 - val_loss: 0.5195 - val_acc: 0.9141\n",
      "Epoch 11/20\n",
      "50000/50000 [==============================] - 590s - loss: 0.2358 - acc: 0.9837 - val_loss: 0.5167 - val_acc: 0.9143\n",
      "Epoch 12/20\n",
      "50000/50000 [==============================] - 590s - loss: 0.2326 - acc: 0.9845 - val_loss: 0.5210 - val_acc: 0.9135\n",
      "Epoch 13/20\n",
      "50000/50000 [==============================] - 590s - loss: 0.2332 - acc: 0.9834 - val_loss: 0.5237 - val_acc: 0.9142\n",
      "Epoch 14/20\n",
      "50000/50000 [==============================] - 590s - loss: 0.2301 - acc: 0.9849 - val_loss: 0.5362 - val_acc: 0.9126\n",
      "Epoch 15/20\n",
      "50000/50000 [==============================] - 590s - loss: 0.2293 - acc: 0.9852 - val_loss: 0.5227 - val_acc: 0.9127\n",
      "Epoch 16/20\n",
      "50000/50000 [==============================] - 590s - loss: 0.2295 - acc: 0.9849 - val_loss: 0.5248 - val_acc: 0.9130\n",
      "Epoch 17/20\n",
      "50000/50000 [==============================] - 591s - loss: 0.2276 - acc: 0.9851 - val_loss: 0.5210 - val_acc: 0.9131\n",
      "Epoch 18/20\n",
      "50000/50000 [==============================] - 591s - loss: 0.2274 - acc: 0.9851 - val_loss: 0.5263 - val_acc: 0.9133\n",
      "Epoch 19/20\n",
      "50000/50000 [==============================] - 590s - loss: 0.2273 - acc: 0.9839 - val_loss: 0.5299 - val_acc: 0.9119\n",
      "Epoch 20/20\n",
      "50000/50000 [==============================] - 591s - loss: 0.2245 - acc: 0.9859 - val_loss: 0.5199 - val_acc: 0.9129\n"
     ]
    },
    {
     "data": {
      "text/plain": [
       "<keras.callbacks.History at 0x7fefd417e390>"
      ]
     },
     "execution_count": 60,
     "metadata": {},
     "output_type": "execute_result"
    }
   ],
   "source": [
    "K.set_value(model.optimizer.lr, 0.001)\n",
    "model.fit(x_train, y_train, 64, 20, validation_data=(x_test, y_test), verbose=1)"
   ]
  },
  {
   "cell_type": "code",
   "execution_count": 61,
   "metadata": {},
   "outputs": [],
   "source": [
    "model.save_weights('densenet.h5')"
   ]
  },
  {
   "cell_type": "code",
   "execution_count": null,
   "metadata": {},
   "outputs": [],
   "source": []
  }
 ],
 "metadata": {
  "kernelspec": {
   "display_name": "Python 3",
   "language": "python",
   "name": "python3"
  },
  "language_info": {
   "codemirror_mode": {
    "name": "ipython",
    "version": 3
   },
   "file_extension": ".py",
   "mimetype": "text/x-python",
   "name": "python",
   "nbconvert_exporter": "python",
   "pygments_lexer": "ipython3",
   "version": "3.6.2"
  }
 },
 "nbformat": 4,
 "nbformat_minor": 2
}
